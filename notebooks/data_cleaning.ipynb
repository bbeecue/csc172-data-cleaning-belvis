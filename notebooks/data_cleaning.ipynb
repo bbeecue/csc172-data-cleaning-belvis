{
 "cells": [
  {
   "cell_type": "markdown",
   "id": "815e0b61",
   "metadata": {},
   "source": [
    "#  **\"Census Data\" Data Mining and Analysys**\n",
    "This Dataset used for this assignment is the Census Dataset for predicting whether annual income of an individual exceeds $50K/yr <br> from: https://archive.ics.uci.edu/dataset/2/adult"
   ]
  },
  {
   "cell_type": "markdown",
   "id": "7146c49b",
   "metadata": {},
   "source": [
    "---"
   ]
  },
  {
   "cell_type": "markdown",
   "id": "bae3c76f",
   "metadata": {},
   "source": [
    "## **1. Initial exploration**\n",
    "\n",
    ">**The following cell blocks are executed for initial exploration of the dataset, its missing and duplicated values, shapes, and statistics**"
   ]
  },
  {
   "cell_type": "code",
   "execution_count": null,
   "id": "898f8ab6",
   "metadata": {},
   "outputs": [],
   "source": [
    "#Import necessary libraries\n",
    "\n",
    "import pandas as pd\n",
    "import numpy as np"
   ]
  },
  {
   "cell_type": "markdown",
   "id": "a2847d56",
   "metadata": {},
   "source": [
    ">**The dataset doesn't have column names by default, so we define the column names before we import the dataset so we can read the data properly**\n",
    "\n"
   ]
  },
  {
   "cell_type": "code",
   "execution_count": null,
   "id": "a9bcad98",
   "metadata": {},
   "outputs": [],
   "source": [
    "# Define column names\n",
    "\n",
    "columns = [\n",
    "    \"age\", \"workclass\", \"fnlwgt\", \"education\", \"education-num\",\n",
    "    \"marital-status\", \"occupation\", \"relationship\", \"race\", \"sex\",\n",
    "    \"capital-gain\", \"capital-loss\", \"hours-per-week\", \"native-country\", \"income\"\n",
    "]"
   ]
  },
  {
   "cell_type": "markdown",
   "id": "345af908",
   "metadata": {},
   "source": [
    ">**In this dataset, the null values are marked as \" ?\". To ensure we read \" ?\" as empty, we use na_values to treat \" ?\" as NaN.** \n",
    "\n",
    "*The cleaning process later will include the handling of \" ?\" to NaN in the cleaned dataset.*"
   ]
  },
  {
   "cell_type": "code",
   "execution_count": null,
   "id": "919e31f2",
   "metadata": {},
   "outputs": [],
   "source": [
    "# Load dataset\n",
    "census_df = pd.read_csv(\n",
    "    \"../data/raw_dataset.csv\",\n",
    "    header=None,    \n",
    "    names=columns,        # assign the column names\n",
    "    na_values=' ?'         # treat ' ?' as missing values\n",
    ")"
   ]
  },
  {
   "cell_type": "code",
   "execution_count": null,
   "id": "4b84f0c4",
   "metadata": {},
   "outputs": [],
   "source": [
    "# Display basic info\n",
    "\n",
    "print(\"=== Dataframe Info ===\")\n",
    "print(census_df.info())\n",
    "print(\"\\n\")"
   ]
  },
  {
   "cell_type": "code",
   "execution_count": null,
   "id": "959f3536",
   "metadata": {},
   "outputs": [],
   "source": [
    "# Statistical description\n",
    "\n",
    "print(\"=== Dataframe Description ===\")\n",
    "print(census_df.describe(include='all'))  # include='all' covers categorical columns too\n",
    "print(\"\\n\")\n"
   ]
  },
  {
   "cell_type": "code",
   "execution_count": 75,
   "id": "d19ea49c",
   "metadata": {},
   "outputs": [
    {
     "name": "stdout",
     "output_type": "stream",
     "text": [
      "=== Missing Values ===\n",
      "age                  0\n",
      "workclass         1836\n",
      "fnlwgt               0\n",
      "education            0\n",
      "education-num        0\n",
      "marital-status       0\n",
      "occupation        1843\n",
      "relationship         0\n",
      "race                 0\n",
      "sex                  0\n",
      "capital-gain         0\n",
      "capital-loss         0\n",
      "hours-per-week       0\n",
      "native-country     583\n",
      "income               0\n",
      "dtype: int64\n",
      "\n",
      "\n"
     ]
    }
   ],
   "source": [
    "# Missing values\n",
    "\n",
    "print(\"=== Missing Values ===\")\n",
    "print(census_df.isnull().sum())\n",
    "print(\"\\n\")"
   ]
  },
  {
   "cell_type": "code",
   "execution_count": 80,
   "id": "ae6ca876",
   "metadata": {},
   "outputs": [
    {
     "name": "stdout",
     "output_type": "stream",
     "text": [
      "=== Duplicate Rows ===\n",
      "24\n",
      "\n",
      "\n"
     ]
    }
   ],
   "source": [
    "# Check duplicates\n",
    "\n",
    "print(\"=== Duplicate Rows ===\")\n",
    "print(census_df.duplicated().sum())\n",
    "print(\"\\n\")"
   ]
  },
  {
   "cell_type": "markdown",
   "id": "003af566",
   "metadata": {},
   "source": [
    ">**The following codes will show the shape, statistics, and sample rows of the uncleaned/raw dataset.**"
   ]
  },
  {
   "cell_type": "code",
   "execution_count": null,
   "id": "90b79545",
   "metadata": {},
   "outputs": [],
   "source": [
    "# Show the sample rows\n",
    "\n",
    "print(\"=== Sample Rows ===\")\n",
    "print(census_df.sample(10))   \n",
    "print(\"\\n\")"
   ]
  },
  {
   "cell_type": "code",
   "execution_count": null,
   "id": "89d09b07",
   "metadata": {},
   "outputs": [
    {
     "name": "stdout",
     "output_type": "stream",
     "text": [
      "Dataset shape: (32561, 15)\n"
     ]
    }
   ],
   "source": [
    "#Show the shape of the dataset\n",
    "\n",
    "print(\"Dataset shape:\", census_df.shape)"
   ]
  },
  {
   "cell_type": "markdown",
   "id": "64eb0932",
   "metadata": {},
   "source": [
    ">The code below shows the top labels for non-numerical attributes of the dataset"
   ]
  },
  {
   "cell_type": "code",
   "execution_count": null,
   "id": "a66beee3",
   "metadata": {},
   "outputs": [
    {
     "name": "stdout",
     "output_type": "stream",
     "text": [
      "\n",
      "=== Categorical Summary ===\n",
      "       workclass education       marital-status       occupation relationship  \\\n",
      "count      30725     32561                32561            30718        32561   \n",
      "unique         8        16                    7               14            6   \n",
      "top      Private   HS-grad   Married-civ-spouse   Prof-specialty      Husband   \n",
      "freq       22696     10501                14976             4140        13193   \n",
      "\n",
      "          race    sex  native-country  income  \n",
      "count    32561  32561           31978   32561  \n",
      "unique       5      2              41       2  \n",
      "top      White   Male   United-States   <=50K  \n",
      "freq     27816  21790           29170   24720  \n"
     ]
    }
   ],
   "source": [
    "# Summary for categorical columns only\n",
    "\n",
    "print(\"\\n=== Categorical Summary ===\")\n",
    "print(census_df.describe(include=['object']))"
   ]
  },
  {
   "cell_type": "markdown",
   "id": "f0ff921c",
   "metadata": {},
   "source": [
    ">The code below was copied from Lesson003_Descriptive Statistics colab code (Iris Dataset) \n",
    "<br>to get calculate the summary statistics of the dataset's numerical attributes"
   ]
  },
  {
   "cell_type": "code",
   "execution_count": null,
   "id": "9741c7ed",
   "metadata": {},
   "outputs": [
    {
     "data": {
      "text/html": [
       "<div>\n",
       "<style scoped>\n",
       "    .dataframe tbody tr th:only-of-type {\n",
       "        vertical-align: middle;\n",
       "    }\n",
       "\n",
       "    .dataframe tbody tr th {\n",
       "        vertical-align: top;\n",
       "    }\n",
       "\n",
       "    .dataframe thead th {\n",
       "        text-align: right;\n",
       "    }\n",
       "</style>\n",
       "<table border=\"1\" class=\"dataframe\">\n",
       "  <thead>\n",
       "    <tr style=\"text-align: right;\">\n",
       "      <th></th>\n",
       "      <th>Column</th>\n",
       "      <th>Mean</th>\n",
       "      <th>Mode</th>\n",
       "      <th>Median</th>\n",
       "      <th>Standard Deviation</th>\n",
       "      <th>Min</th>\n",
       "      <th>Max</th>\n",
       "    </tr>\n",
       "  </thead>\n",
       "  <tbody>\n",
       "    <tr>\n",
       "      <th>0</th>\n",
       "      <td>age</td>\n",
       "      <td>38.581647</td>\n",
       "      <td>36</td>\n",
       "      <td>37.0</td>\n",
       "      <td>13.640433</td>\n",
       "      <td>17</td>\n",
       "      <td>90</td>\n",
       "    </tr>\n",
       "    <tr>\n",
       "      <th>1</th>\n",
       "      <td>fnlwgt</td>\n",
       "      <td>189778.366512</td>\n",
       "      <td>[123011, 164190, 203488]</td>\n",
       "      <td>178356.0</td>\n",
       "      <td>105549.977697</td>\n",
       "      <td>12285</td>\n",
       "      <td>1484705</td>\n",
       "    </tr>\n",
       "    <tr>\n",
       "      <th>2</th>\n",
       "      <td>education-num</td>\n",
       "      <td>10.080679</td>\n",
       "      <td>9</td>\n",
       "      <td>10.0</td>\n",
       "      <td>2.572720</td>\n",
       "      <td>1</td>\n",
       "      <td>16</td>\n",
       "    </tr>\n",
       "    <tr>\n",
       "      <th>3</th>\n",
       "      <td>capital-gain</td>\n",
       "      <td>1077.648844</td>\n",
       "      <td>0</td>\n",
       "      <td>0.0</td>\n",
       "      <td>7385.292085</td>\n",
       "      <td>0</td>\n",
       "      <td>99999</td>\n",
       "    </tr>\n",
       "    <tr>\n",
       "      <th>4</th>\n",
       "      <td>capital-loss</td>\n",
       "      <td>87.303830</td>\n",
       "      <td>0</td>\n",
       "      <td>0.0</td>\n",
       "      <td>402.960219</td>\n",
       "      <td>0</td>\n",
       "      <td>4356</td>\n",
       "    </tr>\n",
       "    <tr>\n",
       "      <th>5</th>\n",
       "      <td>hours-per-week</td>\n",
       "      <td>40.437456</td>\n",
       "      <td>40</td>\n",
       "      <td>40.0</td>\n",
       "      <td>12.347429</td>\n",
       "      <td>1</td>\n",
       "      <td>99</td>\n",
       "    </tr>\n",
       "  </tbody>\n",
       "</table>\n",
       "</div>"
      ],
      "text/plain": [
       "           Column           Mean                      Mode    Median  \\\n",
       "0             age      38.581647                        36      37.0   \n",
       "1          fnlwgt  189778.366512  [123011, 164190, 203488]  178356.0   \n",
       "2   education-num      10.080679                         9      10.0   \n",
       "3    capital-gain    1077.648844                         0       0.0   \n",
       "4    capital-loss      87.303830                         0       0.0   \n",
       "5  hours-per-week      40.437456                        40      40.0   \n",
       "\n",
       "   Standard Deviation    Min      Max  \n",
       "0           13.640433     17       90  \n",
       "1       105549.977697  12285  1484705  \n",
       "2            2.572720      1       16  \n",
       "3         7385.292085      0    99999  \n",
       "4          402.960219      0     4356  \n",
       "5           12.347429      1       99  "
      ]
     },
     "execution_count": 77,
     "metadata": {},
     "output_type": "execute_result"
    }
   ],
   "source": [
    "from pandas.api.types import is_numeric_dtype\n",
    "\n",
    "\n",
    "# Initialize an empty DataFrame to store the statistics\n",
    "summary_df = pd.DataFrame(columns=['Column', 'Mean', 'Mode', 'Std', 'Min', 'Max'])\n",
    "\n",
    "summary_frames = []\n",
    "\n",
    "# Loop through the numeric columns and calculate statistics\n",
    "for col in census_df.columns:\n",
    "    if is_numeric_dtype(census_df[col]):\n",
    "        mean = census_df[col].mean()\n",
    "        std = census_df[col].std()\n",
    "        min_val = census_df[col].min()\n",
    "        max_val = census_df[col].max()\n",
    "\n",
    "        mode_values = census_df[col].mode().values\n",
    "\n",
    "        if len(mode_values) > 1:\n",
    "            mode = np.array(mode_values)\n",
    "        else:\n",
    "            mode = mode_values[0]\n",
    "\n",
    "        median = census_df[col].median()\n",
    "\n",
    "        # Create a DataFrame for the current column\n",
    "        col_summary = pd.DataFrame({'Column': [col], 'Mean': [mean], 'Mode': [mode],  \n",
    "                                    'Median': [median], 'Standard Deviation': [std], 'Min': [min_val], 'Max': [max_val]})\n",
    "        summary_frames.append(col_summary)\n",
    "\n",
    "# Concatenate the list of DataFrames into one summary DataFrame\n",
    "summary_df = pd.concat(summary_frames, ignore_index=True)\n",
    "\n",
    "# Display the summary DataFrame\n",
    "summary_df"
   ]
  },
  {
   "cell_type": "markdown",
   "id": "a2460004",
   "metadata": {},
   "source": [
    "## **2. Data Cleaning Process**\n",
    "\n",
    ">**The following cell blocks are executed to handle missing values, standardize formats, and detect and treat outliers.**"
   ]
  },
  {
   "cell_type": "markdown",
   "id": "4cadfbe8",
   "metadata": {},
   "source": []
  }
 ],
 "metadata": {
  "kernelspec": {
   "display_name": ".venv",
   "language": "python",
   "name": "python3"
  },
  "language_info": {
   "codemirror_mode": {
    "name": "ipython",
    "version": 3
   },
   "file_extension": ".py",
   "mimetype": "text/x-python",
   "name": "python",
   "nbconvert_exporter": "python",
   "pygments_lexer": "ipython3",
   "version": "3.9.6"
  }
 },
 "nbformat": 4,
 "nbformat_minor": 5
}
